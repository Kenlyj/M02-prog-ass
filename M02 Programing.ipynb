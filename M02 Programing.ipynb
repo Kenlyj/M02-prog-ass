{
 "cells": [
  {
   "cell_type": "code",
   "execution_count": 2,
   "id": "a58df78d-13b7-493b-b37b-11099b14c9f6",
   "metadata": {},
   "outputs": [
    {
     "name": "stdin",
     "output_type": "stream",
     "text": [
      "Guess a number between 1 - 10:  5\n"
     ]
    },
    {
     "name": "stdout",
     "output_type": "stream",
     "text": [
      "Correct\n"
     ]
    }
   ],
   "source": [
    "secret = 5\n",
    "guess = int(input(\"Guess a number between 1 - 10: \"))\n",
    "\n",
    "if guess == secret:\n",
    "    print(\"Correct\")\n",
    "elif guess < secret:\n",
    "    print(\"Too low, Guess again\")\n",
    "elif guess > secret:\n",
    "    print(\"Too high, Guess again\")\n",
    "else:\n",
    "    print(\"The number you wrote is not between 1 - 10\")\n"
   ]
  },
  {
   "cell_type": "code",
   "execution_count": 3,
   "id": "9c2c8e48-5ef9-4e8f-aff0-60cda15bf1dc",
   "metadata": {},
   "outputs": [
    {
     "name": "stdout",
     "output_type": "stream",
     "text": [
      "This matches: cherry\n"
     ]
    }
   ],
   "source": [
    "# Assigning values to variables small and green\n",
    "small = True\n",
    "green = False\n",
    "\n",
    "# Using if/else statements to match fruits with the given characteristics\n",
    "if small and green:\n",
    "    print(\"This matches: pea\")\n",
    "elif small and not green:\n",
    "    print(\"This matches: cherry\")\n",
    "elif not small and green:\n",
    "    print(\"This matches: watermelon\")\n",
    "elif not small and not green:\n",
    "    print(\"This matches: pumpkin\")\n"
   ]
  },
  {
   "cell_type": "code",
   "execution_count": 4,
   "id": "b8d9ef9f-8c3f-4910-b8dd-cb9a598b39a0",
   "metadata": {},
   "outputs": [
    {
     "name": "stdout",
     "output_type": "stream",
     "text": [
      "3\n",
      "2\n",
      "1\n",
      "0\n"
     ]
    }
   ],
   "source": [
    "# Define the list\n",
    "my_list = [3, 2, 1, 0]\n",
    "\n",
    "# Use a for loop to print each element\n",
    "for num in my_list:\n",
    "    print(num)\n"
   ]
  },
  {
   "cell_type": "code",
   "execution_count": null,
   "id": "55cc3df0-4971-4588-94ae-3d06deeb0af8",
   "metadata": {},
   "outputs": [],
   "source": []
  }
 ],
 "metadata": {
  "kernelspec": {
   "display_name": "Python 3 (ipykernel)",
   "language": "python",
   "name": "python3"
  },
  "language_info": {
   "codemirror_mode": {
    "name": "ipython",
    "version": 3
   },
   "file_extension": ".py",
   "mimetype": "text/x-python",
   "name": "python",
   "nbconvert_exporter": "python",
   "pygments_lexer": "ipython3",
   "version": "3.11.7"
  }
 },
 "nbformat": 4,
 "nbformat_minor": 5
}
